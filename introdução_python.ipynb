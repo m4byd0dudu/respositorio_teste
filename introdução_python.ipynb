{
  "nbformat": 4,
  "nbformat_minor": 0,
  "metadata": {
    "colab": {
      "provenance": [],
      "authorship_tag": "ABX9TyOAZ+1FBdpIV8/S4B00lvsK",
      "include_colab_link": true
    },
    "kernelspec": {
      "name": "python3",
      "display_name": "Python 3"
    },
    "language_info": {
      "name": "python"
    }
  },
  "cells": [
    {
      "cell_type": "markdown",
      "metadata": {
        "id": "view-in-github",
        "colab_type": "text"
      },
      "source": [
        "<a href=\"https://colab.research.google.com/github/m4byd0dudu/respositorio_teste/blob/main/introdu%C3%A7%C3%A3o_python.ipynb\" target=\"_parent\"><img src=\"https://colab.research.google.com/assets/colab-badge.svg\" alt=\"Open In Colab\"/></a>"
      ]
    },
    {
      "cell_type": "markdown",
      "source": [
        "## Aula 1"
      ],
      "metadata": {
        "id": "BoUMpDn2kiwm"
      }
    },
    {
      "cell_type": "code",
      "execution_count": null,
      "metadata": {
        "colab": {
          "base_uri": "https://localhost:8080/"
        },
        "id": "j5EMvZh-fmqh",
        "outputId": "e3ead114-17df-4308-c914-a144f3e0aa8f"
      },
      "outputs": [
        {
          "output_type": "stream",
          "name": "stdout",
          "text": [
            "I Competição de Programação da Start\n"
          ]
        }
      ],
      "source": [
        "print(\"I Competição de Programação da Start\")"
      ]
    },
    {
      "cell_type": "code",
      "source": [
        "ano = \"II\"\n",
        "\n",
        "print(ano, \"Competição de Programação da Start\")"
      ],
      "metadata": {
        "colab": {
          "base_uri": "https://localhost:8080/"
        },
        "id": "PBjuROIYhsDE",
        "outputId": "817a55bd-085c-4eff-97f9-0e9494811f8f"
      },
      "execution_count": null,
      "outputs": [
        {
          "output_type": "stream",
          "name": "stdout",
          "text": [
            "II Compertição de Programação da Start\n"
          ]
        }
      ]
    },
    {
      "cell_type": "code",
      "source": [
        "print(f\"{ano} Competição do Programação da Start\")"
      ],
      "metadata": {
        "colab": {
          "base_uri": "https://localhost:8080/"
        },
        "id": "FyhsU8kZifCj",
        "outputId": "32bb4307-c7f4-462f-eff3-c60b1aa75b81"
      },
      "execution_count": null,
      "outputs": [
        {
          "output_type": "stream",
          "name": "stdout",
          "text": [
            "II Competição do Programação da Start\n"
          ]
        }
      ]
    },
    {
      "cell_type": "markdown",
      "source": [
        "## Aula 2"
      ],
      "metadata": {
        "id": "cyMwQb99kpMF"
      }
    },
    {
      "cell_type": "markdown",
      "source": [
        "Descrição do problema a ser resolvido\n",
        "Aqui, você pode dar uma olhada no enunciado do problema que deve ser resolvido:\n",
        "\n",
        "Uma escola está promovendo uma campanha de incentivo à leitura, em que cada estudante recebe pontos ao concluir livros. Esses pontos podem ser trocados por diferentes prêmios da escola, e as categorias de livros têm valores diferntes de pontos:\n",
        "\n",
        "Ficção: 8 pontos;\n",
        "Não ficção: 8 ponto;\n",
        "Infantis: 6 pontos.\n",
        "Rodrigo, um estudante dessa escola, leu um livro de cada categoria e, agora, quer saber quantos pontos acumulou com sua leitura. Para isso, você deve criar um programa em Python que tenha as seguintes características:\n",
        "\n",
        "Consiga armazenar os pontos de cada categoria de livro;\n",
        "Calcule os pontos de Rodrigo;\n",
        "Apresente na tela os pontos de Rodrigo.\n",
        "Desenvolvimento do programa para calcular pontos\n",
        "Primeiro, você criará as variáveis responsáveis por armazenar a informação de pontos por cada tipo de livro:"
      ],
      "metadata": {
        "id": "L3HKv7fJQ9Rd"
      }
    },
    {
      "cell_type": "code",
      "source": [
        "livro_ficcao = 10\n",
        "livro_nficcao = 8\n",
        "livro_infantil = 6\n",
        "\n",
        "ponto_borba = livro_ficcao + livro_nficcao + livro_infantil\n",
        "\n",
        "print(f\"Os pontos totais da borba são:{ponto_borba}\")"
      ],
      "metadata": {
        "colab": {
          "base_uri": "https://localhost:8080/"
        },
        "id": "Nnhuahj3TUyX",
        "outputId": "3ea91d39-e874-4aeb-b611-871d454dbf1b"
      },
      "execution_count": 7,
      "outputs": [
        {
          "output_type": "stream",
          "name": "stdout",
          "text": [
            "Os pontos totais da borba são:24\n"
          ]
        }
      ]
    },
    {
      "cell_type": "code",
      "metadata": {
        "id": "b8a42c6c"
      },
      "source": [
        "livro_ficcao = 10\n",
        "livro_nficcao = 8\n",
        "livro_infantil = 6\n",
        "\n",
        "pontos_borba = livro_ficcao + livro_nficcao + livro_infantil\n",
        "\n",
        "print(pontos_borba)"
      ],
      "execution_count": null,
      "outputs": []
    },
    {
      "cell_type": "markdown",
      "source": [
        "Ana também participou da campanha e leu dois livros de ficção e cinco livros infantis. Como podemos calcular o total de pontos de Ana? É possível calcular o total de pontos acumulados por Rodrigo e Ana juntos? Este é um desafio interessante, que pode exigir o uso da soma mais de uma vez, ou até mesmo multiplicação."
      ],
      "metadata": {
        "id": "bUF_q7mbVb2_"
      }
    },
    {
      "cell_type": "markdown",
      "source": [
        "Aula 3"
      ],
      "metadata": {
        "id": "UOF68qGDVyMd"
      }
    },
    {
      "cell_type": "markdown",
      "source": [
        "A turma do segundo ano encontrou um envelope cheio de figurinhas. Para garantir uma divisão justa, todos concordaram com a sugestão de João, o dono do envelope. Cada amigo, exceto João, deve receber exatamente o mesmo número de figurinhas. João deve receber o dobro da quantidade que cada amigo recebe. Pode ser que o fato de João ser o dono do envelope tenha ajudado a convencer os amigos, mas também contribui o fato de que, do jeito proposto, a divisão era exata, sem sobrar nem faltar figurinhas."
      ],
      "metadata": {
        "id": "uHPf8lzeV1BW"
      }
    },
    {
      "cell_type": "markdown",
      "source": [],
      "metadata": {
        "id": "f_hvedi5WBFl"
      }
    }
  ]
}